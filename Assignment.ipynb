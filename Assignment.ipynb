{
  "nbformat": 4,
  "nbformat_minor": 0,
  "metadata": {
    "colab": {
      "provenance": [],
      "include_colab_link": true
    },
    "kernelspec": {
      "name": "python3",
      "display_name": "Python 3"
    },
    "language_info": {
      "name": "python"
    }
  },
  "cells": [
    {
      "cell_type": "markdown",
      "metadata": {
        "id": "view-in-github",
        "colab_type": "text"
      },
      "source": [
        "<a href=\"https://colab.research.google.com/github/garimagarg1999/Image_Caption_generator/blob/main/Assignment.ipynb\" target=\"_parent\"><img src=\"https://colab.research.google.com/assets/colab-badge.svg\" alt=\"Open In Colab\"/></a>"
      ]
    },
    {
      "cell_type": "code",
      "source": [
        "!pip install requests\n",
        "!pip install beautifulsoup4\n"
      ],
      "metadata": {
        "colab": {
          "base_uri": "https://localhost:8080/"
        },
        "id": "l_qDtaHZGV2c",
        "outputId": "add75630-d7a0-4fa7-d4ca-2c1860bc6dba"
      },
      "execution_count": 1,
      "outputs": [
        {
          "output_type": "stream",
          "name": "stdout",
          "text": [
            "Requirement already satisfied: requests in /usr/local/lib/python3.10/dist-packages (2.27.1)\n",
            "Requirement already satisfied: urllib3<1.27,>=1.21.1 in /usr/local/lib/python3.10/dist-packages (from requests) (1.26.16)\n",
            "Requirement already satisfied: certifi>=2017.4.17 in /usr/local/lib/python3.10/dist-packages (from requests) (2023.5.7)\n",
            "Requirement already satisfied: charset-normalizer~=2.0.0 in /usr/local/lib/python3.10/dist-packages (from requests) (2.0.12)\n",
            "Requirement already satisfied: idna<4,>=2.5 in /usr/local/lib/python3.10/dist-packages (from requests) (3.4)\n",
            "Requirement already satisfied: beautifulsoup4 in /usr/local/lib/python3.10/dist-packages (4.11.2)\n",
            "Requirement already satisfied: soupsieve>1.2 in /usr/local/lib/python3.10/dist-packages (from beautifulsoup4) (2.4.1)\n"
          ]
        }
      ]
    },
    {
      "cell_type": "code",
      "source": [],
      "metadata": {
        "id": "JRfwU6haHpbN"
      },
      "execution_count": null,
      "outputs": []
    },
    {
      "cell_type": "code",
      "source": [
        "import requests\n",
        "from bs4 import BeautifulSoup\n",
        "import csv\n",
        "\n",
        "def get_product_data(product_url):\n",
        "    response = requests.get(product_url)\n",
        "    soup = BeautifulSoup(response.content, 'html.parser')\n",
        "\n",
        "    product_name_element = soup.find('span', {'id': 'productTitle'})\n",
        "    product_name = product_name_element.get_text().strip() if product_name_element else ''\n",
        "\n",
        "    product_price_element = soup.find('span', {'id': 'priceblock_ourprice'})\n",
        "    product_price = product_price_element.get_text().strip() if product_price_element else ''\n",
        "\n",
        "    rating_element = soup.find('span', {'class': 'a-icon-alt'})\n",
        "    rating = rating_element.get_text().split()[0] if rating_element else ''\n",
        "\n",
        "    num_reviews_element = soup.find('span', {'id': 'acrCustomerReviewText'})\n",
        "    num_reviews = num_reviews_element.get_text().split()[0] if num_reviews_element else ''\n",
        "\n",
        "    description_element = soup.find('div', {'id': 'productDescription'})\n",
        "    description = description_element.get_text().strip() if description_element else ''\n",
        "\n",
        "    asin_element = soup.find('th', string='ASIN')\n",
        "    asin = asin_element.find_next('td').get_text().strip() if asin_element else ''\n",
        "\n",
        "    manufacturer_element = soup.find('th', string='Manufacturer')\n",
        "    manufacturer = manufacturer_element.find_next('td').get_text().strip() if manufacturer_element else ''\n",
        "\n",
        "    return [product_name, product_price, rating, num_reviews, description, asin, manufacturer]\n",
        "\n",
        "\n",
        "def scrape_product_listings(url, num_pages):\n",
        "    all_products = []\n",
        "\n",
        "    for page in range(1, num_pages+1):\n",
        "        page_url = url + f'&page={page}'\n",
        "        response = requests.get(page_url)\n",
        "        soup = BeautifulSoup(response.content, 'html.parser')\n",
        "\n",
        "        # Find all the product cards on the page\n",
        "        product_cards = soup.find_all('div', {'data-component-type': 's-search-result'})\n",
        "\n",
        "        for card in product_cards:\n",
        "            product_url = 'https://www.amazon.in' + card.find('a', {'class': 'a-link-normal'})['href']\n",
        "            product_data = get_product_data(product_url)\n",
        "            product_data.insert(0, product_url)  # Add the product URL at the beginning\n",
        "            all_products.append(product_data)\n",
        "\n",
        "    return all_products\n",
        "\n",
        "# Scrape product listings\n",
        "base_url = 'https://www.amazon.in/s?k=bags&crid=2M096C61O4MLT&qid=1653308124&sprefix=ba%2Caps%2C283&ref=sr_pg_'\n",
        "num_pages = 20\n",
        "product_listings = scrape_product_listings(base_url, num_pages)\n",
        "\n",
        "# Export data to CSV file\n",
        "csv_filename = 'product_data.csv'\n",
        "header = ['Product URL', 'Product Name', 'Product Price', 'Rating', 'Number of Reviews',\n",
        "          'Description', 'ASIN', 'Manufacturer']\n",
        "\n",
        "with open(csv_filename, 'w', encoding='utf-8', newline='') as file:\n",
        "    writer = csv.writer(file)\n",
        "    writer.writerow(header)\n",
        "    writer.writerows(product_listings)\n"
      ],
      "metadata": {
        "id": "hTIgccqXI6By"
      },
      "execution_count": null,
      "outputs": []
    },
    {
      "cell_type": "code",
      "source": [
        "import time\n",
        "\n",
        "def scrape_product_urls(urls):\n",
        "    product_data = []\n",
        "\n",
        "    for url in urls:\n",
        "        data = get_product_data(url)\n",
        "        product_data.append([url] + data)\n",
        "        time.sleep(1)  # Add a delay to avoid overwhelming the server\n",
        "\n",
        "    return product_data\n",
        "\n",
        "# Extract product URLs from the scraped product listings\n",
        "product_urls = [product[0] for product in product_listings]\n",
        "\n",
        "# Scrape additional information for each product URL\n",
        "product_data = scrape_product_urls(product_urls[:200])  # Limit to 200 URLs\n",
        "\n",
        "# Export updated data to CSV file\n",
        "csv_filename = 'product_data_updated.csv'\n",
        "header = ['Product URL', 'Product Name', 'Product Price', 'Rating', 'Number of Reviews',\n",
        "          'Description', 'ASIN', 'Manufacturer']\n",
        "\n",
        "with open(csv_filename, 'w', encoding='utf-8', newline='') as file:\n",
        "    writer = csv.writer(file)\n",
        "    writer.writerow(header)\n",
        "    writer.writerows(product_data)\n"
      ],
      "metadata": {
        "id": "TwvLpKE-zxvV"
      },
      "execution_count": null,
      "outputs": []
    },
    {
      "cell_type": "code",
      "source": [
        "from google.colab import files\n",
        "\n",
        "# Download the CSV file\n",
        "files.download('product_data_updated.csv')\n"
      ],
      "metadata": {
        "id": "cdBZGgtn4J8g",
        "outputId": "155a0216-5265-42f7-bdb9-1fee00b2f38b",
        "colab": {
          "base_uri": "https://localhost:8080/",
          "height": 17
        }
      },
      "execution_count": null,
      "outputs": [
        {
          "output_type": "display_data",
          "data": {
            "text/plain": [
              "<IPython.core.display.Javascript object>"
            ],
            "application/javascript": [
              "\n",
              "    async function download(id, filename, size) {\n",
              "      if (!google.colab.kernel.accessAllowed) {\n",
              "        return;\n",
              "      }\n",
              "      const div = document.createElement('div');\n",
              "      const label = document.createElement('label');\n",
              "      label.textContent = `Downloading \"${filename}\": `;\n",
              "      div.appendChild(label);\n",
              "      const progress = document.createElement('progress');\n",
              "      progress.max = size;\n",
              "      div.appendChild(progress);\n",
              "      document.body.appendChild(div);\n",
              "\n",
              "      const buffers = [];\n",
              "      let downloaded = 0;\n",
              "\n",
              "      const channel = await google.colab.kernel.comms.open(id);\n",
              "      // Send a message to notify the kernel that we're ready.\n",
              "      channel.send({})\n",
              "\n",
              "      for await (const message of channel.messages) {\n",
              "        // Send a message to notify the kernel that we're ready.\n",
              "        channel.send({})\n",
              "        if (message.buffers) {\n",
              "          for (const buffer of message.buffers) {\n",
              "            buffers.push(buffer);\n",
              "            downloaded += buffer.byteLength;\n",
              "            progress.value = downloaded;\n",
              "          }\n",
              "        }\n",
              "      }\n",
              "      const blob = new Blob(buffers, {type: 'application/binary'});\n",
              "      const a = document.createElement('a');\n",
              "      a.href = window.URL.createObjectURL(blob);\n",
              "      a.download = filename;\n",
              "      div.appendChild(a);\n",
              "      a.click();\n",
              "      div.remove();\n",
              "    }\n",
              "  "
            ]
          },
          "metadata": {}
        },
        {
          "output_type": "display_data",
          "data": {
            "text/plain": [
              "<IPython.core.display.Javascript object>"
            ],
            "application/javascript": [
              "download(\"download_fe252797-ce4b-4854-9f49-8a0bc0ee9df2\", \"product_data_updated.csv\", 7888)"
            ]
          },
          "metadata": {}
        }
      ]
    }
  ]
}